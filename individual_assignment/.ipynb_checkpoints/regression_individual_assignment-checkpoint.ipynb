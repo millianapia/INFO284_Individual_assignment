{
 "cells": [
  {
   "cell_type": "markdown",
   "metadata": {},
   "source": [
    "# Regression"
   ]
  },
  {
   "cell_type": "markdown",
   "metadata": {},
   "source": [
    "## Individual assignments"
   ]
  },
  {
   "cell_type": "markdown",
   "metadata": {},
   "source": [
    "### Import of libraries and file"
   ]
  },
  {
   "cell_type": "code",
   "execution_count": 31,
   "metadata": {},
   "outputs": [],
   "source": [
    "import matplotlib as plt\n",
    "import pandas as pd\n",
    "import numpy as np\n",
    "from sklearn import linear_model\n",
    "from sklearn.model_selection import train_test_split"
   ]
  },
  {
   "cell_type": "code",
   "execution_count": 37,
   "metadata": {},
   "outputs": [],
   "source": [
    "df = pd.read_csv(\"Flaveria.csv\")\n",
    "target = df['Plant Weight(g)']"
   ]
  },
  {
   "cell_type": "markdown",
   "metadata": {},
   "source": [
    "### Assigning dummievalues"
   ]
  },
  {
   "cell_type": "code",
   "execution_count": 38,
   "metadata": {},
   "outputs": [],
   "source": [
    "df_dummies = pd.get_dummies(df, columns =['N level','species'] )\n",
    "df = df_dummies\n",
    "updated_feature_names = ['N level_H','N level_L','N level_M','species_bidentis','species_brownii','species_pringlei',\n",
    "                        'species_ramosissima','species_robusta','species_trinervia']"
   ]
  },
  {
   "cell_type": "code",
   "execution_count": 5,
   "metadata": {},
   "outputs": [],
   "source": [
    "df_x=pd.DataFrame(df,columns = updated_feature_names)"
   ]
  },
  {
   "cell_type": "code",
   "execution_count": 69,
   "metadata": {},
   "outputs": [],
   "source": [
    "df_y=pd.DataFrame(target)"
   ]
  },
  {
   "cell_type": "markdown",
   "metadata": {},
   "source": [
    "### R² score - decision tree"
   ]
  },
  {
   "cell_type": "code",
   "execution_count": 113,
   "metadata": {},
   "outputs": [],
   "source": [
    "from sklearn.tree import DecisionTreeRegressor"
   ]
  },
  {
   "cell_type": "code",
   "execution_count": 114,
   "metadata": {},
   "outputs": [],
   "source": [
    "X = df_x\n",
    "y = df_y"
   ]
  },
  {
   "cell_type": "code",
   "execution_count": 115,
   "metadata": {},
   "outputs": [
    {
     "data": {
      "text/plain": [
       "DecisionTreeRegressor(criterion='mse', max_depth=2, max_features=None,\n",
       "           max_leaf_nodes=None, min_impurity_decrease=0.0,\n",
       "           min_impurity_split=None, min_samples_leaf=1,\n",
       "           min_samples_split=2, min_weight_fraction_leaf=0.0,\n",
       "           presort=False, random_state=None, splitter='best')"
      ]
     },
     "execution_count": 115,
     "metadata": {},
     "output_type": "execute_result"
    }
   ],
   "source": [
    "import matplotlib.pyplot as plt\n",
    "\n",
    "regressor = DecisionTreeRegressor(max_depth=2)\n",
    "regressor.fit(X,y)"
   ]
  },
  {
   "cell_type": "code",
   "execution_count": 116,
   "metadata": {},
   "outputs": [
    {
     "data": {
      "text/plain": [
       "array([ 0.38234062,  0.38234062,  0.38234062,  0.38234062,  0.38234062,\n",
       "        0.38234062,  0.38234062,  0.38234062,  0.38234062,  0.38234062,\n",
       "        0.38234062,  0.38234062,  0.38234062,  0.38234062,  0.38234062,\n",
       "        0.38234062,  0.38234062,  0.38234062,  0.38234062,  0.38234062,\n",
       "        0.38234062,  0.38234062,  0.38234062,  0.38234062,  0.38234062,\n",
       "        0.38234062,  0.38234062,  0.38234062,  0.38234062,  0.38234062,\n",
       "        0.38234062,  0.38234062,  0.456     ,  0.456     ,  0.456     ,\n",
       "        0.456     ,  0.456     ,  0.456     ,  0.456     ,  0.456     ,\n",
       "        0.5066    ,  0.5066    ,  0.5066    ,  0.5066    ,  0.5066    ,\n",
       "        0.5066    ,  0.38305   ,  0.38305   ])"
      ]
     },
     "execution_count": 116,
     "metadata": {},
     "output_type": "execute_result"
    }
   ],
   "source": [
    "regressor.predict(X)"
   ]
  },
  {
   "cell_type": "code",
   "execution_count": 117,
   "metadata": {},
   "outputs": [
    {
     "data": {
      "text/plain": [
       "0.31453275403981495"
      ]
     },
     "execution_count": 117,
     "metadata": {},
     "output_type": "execute_result"
    }
   ],
   "source": [
    "regressor.score(X,y)"
   ]
  },
  {
   "cell_type": "markdown",
   "metadata": {},
   "source": [
    "### R² score - Ridge"
   ]
  },
  {
   "cell_type": "code",
   "execution_count": null,
   "metadata": {},
   "outputs": [],
   "source": []
  },
  {
   "cell_type": "code",
   "execution_count": 126,
   "metadata": {},
   "outputs": [],
   "source": [
    "lm = linear_model.Ridge(normalize=True);"
   ]
  },
  {
   "cell_type": "code",
   "execution_count": 127,
   "metadata": {},
   "outputs": [],
   "source": [
    "model = lm.fit(X,y)"
   ]
  },
  {
   "cell_type": "code",
   "execution_count": 133,
   "metadata": {},
   "outputs": [
    {
     "data": {
      "text/plain": [
       "array([[ 0.38274346],\n",
       "       [ 0.38274346],\n",
       "       [ 0.38324314],\n",
       "       [ 0.38324314],\n",
       "       [ 0.38324314],\n",
       "       [ 0.37197172],\n",
       "       [ 0.37197172],\n",
       "       [ 0.37197172],\n",
       "       [ 0.41594116],\n",
       "       [ 0.41594116],\n",
       "       [ 0.41594116],\n",
       "       [ 0.41644085],\n",
       "       [ 0.41644085],\n",
       "       [ 0.40516943],\n",
       "       [ 0.40516943],\n",
       "       [ 0.40516943],\n",
       "       [ 0.40198629],\n",
       "       [ 0.40198629],\n",
       "       [ 0.40198629],\n",
       "       [ 0.40248598],\n",
       "       [ 0.40248598],\n",
       "       [ 0.40248598],\n",
       "       [ 0.39121456],\n",
       "       [ 0.39121456],\n",
       "       [ 0.39323664],\n",
       "       [ 0.39323664],\n",
       "       [ 0.39373632],\n",
       "       [ 0.39373632],\n",
       "       [ 0.39373632],\n",
       "       [ 0.38246491],\n",
       "       [ 0.38246491],\n",
       "       [ 0.38246491],\n",
       "       [ 0.43886389],\n",
       "       [ 0.43886389],\n",
       "       [ 0.43886389],\n",
       "       [ 0.43936357],\n",
       "       [ 0.43936357],\n",
       "       [ 0.42809216],\n",
       "       [ 0.42809216],\n",
       "       [ 0.42809216],\n",
       "       [ 0.44884766],\n",
       "       [ 0.44884766],\n",
       "       [ 0.44884766],\n",
       "       [ 0.44934734],\n",
       "       [ 0.44934734],\n",
       "       [ 0.44934734],\n",
       "       [ 0.43807593],\n",
       "       [ 0.43807593]])"
      ]
     },
     "execution_count": 133,
     "metadata": {},
     "output_type": "execute_result"
    }
   ],
   "source": [
    "lm.predict(X)"
   ]
  },
  {
   "cell_type": "code",
   "execution_count": 134,
   "metadata": {},
   "outputs": [
    {
     "data": {
      "text/plain": [
       "array([[-0.00734772,  0.00342401,  0.0039237 ,  0.03524447, -0.03085973,\n",
       "         0.00233798, -0.02036654,  0.02526071, -0.01161689]])"
      ]
     },
     "execution_count": 134,
     "metadata": {},
     "output_type": "execute_result"
    }
   ],
   "source": [
    "lm.coef_"
   ]
  },
  {
   "cell_type": "code",
   "execution_count": 135,
   "metadata": {},
   "outputs": [
    {
     "data": {
      "text/plain": [
       "array([ 0.41017917])"
      ]
     },
     "execution_count": 135,
     "metadata": {},
     "output_type": "execute_result"
    }
   ],
   "source": [
    "lm.intercept_"
   ]
  },
  {
   "cell_type": "code",
   "execution_count": 131,
   "metadata": {},
   "outputs": [
    {
     "data": {
      "text/plain": [
       "0.24113551808562297"
      ]
     },
     "execution_count": 131,
     "metadata": {},
     "output_type": "execute_result"
    }
   ],
   "source": [
    "lm.score(X,y)"
   ]
  }
 ],
 "metadata": {
  "kernelspec": {
   "display_name": "Python 3",
   "language": "python",
   "name": "python3"
  },
  "language_info": {
   "codemirror_mode": {
    "name": "ipython",
    "version": 3
   },
   "file_extension": ".py",
   "mimetype": "text/x-python",
   "name": "python",
   "nbconvert_exporter": "python",
   "pygments_lexer": "ipython3",
   "version": "3.6.3"
  }
 },
 "nbformat": 4,
 "nbformat_minor": 2
}
