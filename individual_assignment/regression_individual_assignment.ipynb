{
 "cells": [
  {
   "cell_type": "markdown",
   "metadata": {},
   "source": [
    "# Regression \n",
    "## Individual assignment"
   ]
  },
  {
   "cell_type": "markdown",
   "metadata": {},
   "source": [
    "### Imports of libraries"
   ]
  },
  {
   "cell_type": "code",
   "execution_count": 9,
   "metadata": {},
   "outputs": [],
   "source": [
    "import numpy as np\n",
    "import pandas as pd\n",
    "import matplotlib.pyplot as plt\n",
    "%matplotlib inline\n",
    "from collections import Counter\n",
    "import seaborn as sns\n",
    "sns.set()"
   ]
  },
  {
   "cell_type": "code",
   "execution_count": 10,
   "metadata": {},
   "outputs": [],
   "source": [
    "from sklearn import linear_model"
   ]
  },
  {
   "cell_type": "markdown",
   "metadata": {},
   "source": [
    "### Import dataset file"
   ]
  },
  {
   "cell_type": "code",
   "execution_count": 13,
   "metadata": {},
   "outputs": [],
   "source": [
    "df = pd.read_csv(\"Flaveria.csv\")"
   ]
  },
  {
   "cell_type": "code",
   "execution_count": 6,
   "metadata": {},
   "outputs": [
    {
     "data": {
      "text/html": [
       "<div>\n",
       "<style scoped>\n",
       "    .dataframe tbody tr th:only-of-type {\n",
       "        vertical-align: middle;\n",
       "    }\n",
       "\n",
       "    .dataframe tbody tr th {\n",
       "        vertical-align: top;\n",
       "    }\n",
       "\n",
       "    .dataframe thead th {\n",
       "        text-align: right;\n",
       "    }\n",
       "</style>\n",
       "<table border=\"1\" class=\"dataframe\">\n",
       "  <thead>\n",
       "    <tr style=\"text-align: right;\">\n",
       "      <th></th>\n",
       "      <th>N level</th>\n",
       "      <th>species</th>\n",
       "      <th>Plant Weight(g)</th>\n",
       "    </tr>\n",
       "  </thead>\n",
       "  <tbody>\n",
       "    <tr>\n",
       "      <th>0</th>\n",
       "      <td>L</td>\n",
       "      <td>brownii</td>\n",
       "      <td>0.3008</td>\n",
       "    </tr>\n",
       "    <tr>\n",
       "      <th>1</th>\n",
       "      <td>L</td>\n",
       "      <td>brownii</td>\n",
       "      <td>0.3288</td>\n",
       "    </tr>\n",
       "    <tr>\n",
       "      <th>2</th>\n",
       "      <td>M</td>\n",
       "      <td>brownii</td>\n",
       "      <td>0.3304</td>\n",
       "    </tr>\n",
       "    <tr>\n",
       "      <th>3</th>\n",
       "      <td>M</td>\n",
       "      <td>brownii</td>\n",
       "      <td>0.3880</td>\n",
       "    </tr>\n",
       "    <tr>\n",
       "      <th>4</th>\n",
       "      <td>M</td>\n",
       "      <td>brownii</td>\n",
       "      <td>0.4060</td>\n",
       "    </tr>\n",
       "  </tbody>\n",
       "</table>\n",
       "</div>"
      ],
      "text/plain": [
       "  N level  species  Plant Weight(g)\n",
       "0       L  brownii           0.3008\n",
       "1       L  brownii           0.3288\n",
       "2       M  brownii           0.3304\n",
       "3       M  brownii           0.3880\n",
       "4       M  brownii           0.4060"
      ]
     },
     "execution_count": 6,
     "metadata": {},
     "output_type": "execute_result"
    }
   ],
   "source": [
    "df.head()"
   ]
  },
  {
   "cell_type": "code",
   "execution_count": 17,
   "metadata": {},
   "outputs": [
    {
     "data": {
      "text/html": [
       "<div>\n",
       "<style scoped>\n",
       "    .dataframe tbody tr th:only-of-type {\n",
       "        vertical-align: middle;\n",
       "    }\n",
       "\n",
       "    .dataframe tbody tr th {\n",
       "        vertical-align: top;\n",
       "    }\n",
       "\n",
       "    .dataframe thead th {\n",
       "        text-align: right;\n",
       "    }\n",
       "</style>\n",
       "<table border=\"1\" class=\"dataframe\">\n",
       "  <thead>\n",
       "    <tr style=\"text-align: right;\">\n",
       "      <th></th>\n",
       "      <th>Plant Weight(g)</th>\n",
       "    </tr>\n",
       "  </thead>\n",
       "  <tbody>\n",
       "    <tr>\n",
       "      <th>count</th>\n",
       "      <td>48.000000</td>\n",
       "    </tr>\n",
       "    <tr>\n",
       "      <th>mean</th>\n",
       "      <td>0.410179</td>\n",
       "    </tr>\n",
       "    <tr>\n",
       "      <th>std</th>\n",
       "      <td>0.081772</td>\n",
       "    </tr>\n",
       "    <tr>\n",
       "      <th>min</th>\n",
       "      <td>0.278600</td>\n",
       "    </tr>\n",
       "    <tr>\n",
       "      <th>25%</th>\n",
       "      <td>0.354600</td>\n",
       "    </tr>\n",
       "    <tr>\n",
       "      <th>50%</th>\n",
       "      <td>0.396800</td>\n",
       "    </tr>\n",
       "    <tr>\n",
       "      <th>75%</th>\n",
       "      <td>0.459825</td>\n",
       "    </tr>\n",
       "    <tr>\n",
       "      <th>max</th>\n",
       "      <td>0.652000</td>\n",
       "    </tr>\n",
       "  </tbody>\n",
       "</table>\n",
       "</div>"
      ],
      "text/plain": [
       "       Plant Weight(g)\n",
       "count        48.000000\n",
       "mean          0.410179\n",
       "std           0.081772\n",
       "min           0.278600\n",
       "25%           0.354600\n",
       "50%           0.396800\n",
       "75%           0.459825\n",
       "max           0.652000"
      ]
     },
     "execution_count": 17,
     "metadata": {},
     "output_type": "execute_result"
    }
   ],
   "source": [
    "df.describe()"
   ]
  },
  {
   "cell_type": "markdown",
   "metadata": {},
   "source": [
    "### Convert from string to values"
   ]
  },
  {
   "cell_type": "code",
   "execution_count": 36,
   "metadata": {},
   "outputs": [],
   "source": [
    "mapping = {}\n",
    "cols = df.drop('species', axis=1).columns\n",
    "\n",
    "for col in cols:\n",
    "  mapping[col] = {species: i for i, species in enumerate(df[col].unique())}\n",
    "def mapping_func(row):\n",
    "  return pd.Series([mapping[col][row[col]] for col in cols])"
   ]
  },
  {
   "cell_type": "code",
   "execution_count": 37,
   "metadata": {},
   "outputs": [
    {
     "data": {
      "text/plain": [
       "{'N level': {'H': 2, 'L': 0, 'M': 1},\n",
       " 'Plant Weight(g)': {0.2786: 15,\n",
       "  0.2962: 7,\n",
       "  0.3008: 0,\n",
       "  0.3044: 47,\n",
       "  0.32: 26,\n",
       "  0.3254: 18,\n",
       "  0.3288: 1,\n",
       "  0.3304: 2,\n",
       "  0.3329: 27,\n",
       "  0.3371: 28,\n",
       "  0.3372: 36,\n",
       "  0.3504: 11,\n",
       "  0.35600000000000004: 40,\n",
       "  0.3572: 25,\n",
       "  0.3661: 31,\n",
       "  0.3684: 17,\n",
       "  0.369: 13,\n",
       "  0.37200000000000005: 16,\n",
       "  0.3797: 6,\n",
       "  0.384: 23,\n",
       "  0.38799999999999996: 3,\n",
       "  0.3881: 8,\n",
       "  0.3943: 21,\n",
       "  0.3955: 5,\n",
       "  0.3981: 22,\n",
       "  0.4: 32,\n",
       "  0.406: 4,\n",
       "  0.4063: 24,\n",
       "  0.4135: 20,\n",
       "  0.4137: 37,\n",
       "  0.425: 33,\n",
       "  0.4266: 30,\n",
       "  0.4328: 45,\n",
       "  0.4331: 29,\n",
       "  0.4464: 38,\n",
       "  0.4592: 12,\n",
       "  0.4617: 46,\n",
       "  0.4627: 19,\n",
       "  0.4667: 10,\n",
       "  0.4804: 14,\n",
       "  0.4972: 43,\n",
       "  0.5031: 34,\n",
       "  0.5098: 39,\n",
       "  0.5194: 9,\n",
       "  0.5362: 41,\n",
       "  0.5654: 44,\n",
       "  0.6128: 35,\n",
       "  0.652: 42}}"
      ]
     },
     "execution_count": 37,
     "metadata": {},
     "output_type": "execute_result"
    }
   ],
   "source": [
    "mapping"
   ]
  },
  {
   "cell_type": "markdown",
   "metadata": {},
   "source": [
    "### Fit a model and predict"
   ]
  },
  {
   "cell_type": "code",
   "execution_count": 20,
   "metadata": {},
   "outputs": [],
   "source": [
    "X = df.apply(mapping_func, axis=1)\n",
    "y = df['Plant Weight(g)']"
   ]
  },
  {
   "cell_type": "code",
   "execution_count": 24,
   "metadata": {},
   "outputs": [],
   "source": [
    "lm = linear_model.LinearRegression()\n",
    "model = lm.fit(X,y)\n"
   ]
  },
  {
   "cell_type": "code",
   "execution_count": 28,
   "metadata": {},
   "outputs": [
    {
     "name": "stdout",
     "output_type": "stream",
     "text": [
      "[0.36584275 0.36838684 0.35548116 0.35802525 0.36056935 0.34766366\n",
      " 0.35020776 0.35275185 0.3861955  0.38873959 0.39128368 0.378378\n",
      " 0.38092209 0.36801641 0.3705605  0.3731046  0.40654824 0.40909234\n",
      " 0.41163643 0.39873075 0.40127484 0.40381893 0.39091325 0.39345734\n",
      " 0.42690099 0.42944508 0.4165394  0.41908349 0.42162759 0.4087219\n",
      " 0.411266   0.41381009 0.44725374 0.44979783 0.45234192 0.43943624\n",
      " 0.44198033 0.42907465 0.43161874 0.43416284 0.46760648 0.47015058\n",
      " 0.47269467 0.45978899 0.46233308 0.46487717 0.45197149 0.45451558]\n"
     ]
    }
   ],
   "source": [
    "predictions = lm.predict(X)\n",
    "print(predictions)"
   ]
  },
  {
   "cell_type": "code",
   "execution_count": 30,
   "metadata": {},
   "outputs": [
    {
     "data": {
      "text/plain": [
       "0.20101614688376968"
      ]
     },
     "execution_count": 30,
     "metadata": {},
     "output_type": "execute_result"
    }
   ],
   "source": [
    "lm.score(X,y)\n"
   ]
  },
  {
   "cell_type": "code",
   "execution_count": 32,
   "metadata": {},
   "outputs": [
    {
     "data": {
      "text/plain": [
       "array([-0.01544978,  0.00254409])"
      ]
     },
     "execution_count": 32,
     "metadata": {},
     "output_type": "execute_result"
    }
   ],
   "source": [
    "lm.coef_\n"
   ]
  }
 ],
 "metadata": {
  "kernelspec": {
   "display_name": "Python 3",
   "language": "python",
   "name": "python3"
  },
  "language_info": {
   "codemirror_mode": {
    "name": "ipython",
    "version": 3
   },
   "file_extension": ".py",
   "mimetype": "text/x-python",
   "name": "python",
   "nbconvert_exporter": "python",
   "pygments_lexer": "ipython3",
   "version": "3.6.3"
  }
 },
 "nbformat": 4,
 "nbformat_minor": 2
}
